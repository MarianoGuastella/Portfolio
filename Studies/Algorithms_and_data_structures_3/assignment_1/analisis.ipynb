{
 "cells": [
  {
   "cell_type": "code",
   "execution_count": 1,
   "id": "df89f1e8",
   "metadata": {},
   "outputs": [],
   "source": [
    "import numpy as np\n",
    "import pandas as pd\n",
    "import seaborn as sns\n",
    "import matplotlib.pyplot as plt"
   ]
  },
  {
   "cell_type": "code",
   "execution_count": 2,
   "id": "2e042600",
   "metadata": {},
   "outputs": [],
   "source": [
    "def correlacion_pearson(data_frame, columna1, columna2):\n",
    "    return np.corrcoef(data_frame[columna1], data_frame[columna2])[0,1];"
   ]
  },
  {
   "cell_type": "code",
   "execution_count": 4,
   "id": "7f6b2673",
   "metadata": {},
   "outputs": [
    {
     "ename": "FileNotFoundError",
     "evalue": "[Errno 2] No such file or directory: 'resultados/resultado.csv'",
     "output_type": "error",
     "traceback": [
      "\u001b[1;31m---------------------------------------------------------------------------\u001b[0m",
      "\u001b[1;31mFileNotFoundError\u001b[0m                         Traceback (most recent call last)",
      "\u001b[1;32mC:\\Users\\JUANYM~1\\AppData\\Local\\Temp/ipykernel_2088/337783191.py\u001b[0m in \u001b[0;36m<module>\u001b[1;34m\u001b[0m\n\u001b[1;32m----> 1\u001b[1;33m \u001b[0mdf_resultados\u001b[0m \u001b[1;33m=\u001b[0m \u001b[0mpd\u001b[0m\u001b[1;33m.\u001b[0m\u001b[0mread_csv\u001b[0m\u001b[1;33m(\u001b[0m\u001b[1;34m\"resultados/resultado.csv\"\u001b[0m\u001b[1;33m)\u001b[0m\u001b[1;33m;\u001b[0m\u001b[1;33m\u001b[0m\u001b[1;33m\u001b[0m\u001b[0m\n\u001b[0m\u001b[0;32m      2\u001b[0m \u001b[0mdf_resultados\u001b[0m\u001b[1;33m.\u001b[0m\u001b[0mhead\u001b[0m\u001b[1;33m(\u001b[0m\u001b[1;33m)\u001b[0m\u001b[1;33m\u001b[0m\u001b[1;33m\u001b[0m\u001b[0m\n",
      "\u001b[1;32mc:\\users\\juanymariano\\appdata\\local\\programs\\python\\python39\\lib\\site-packages\\pandas\\util\\_decorators.py\u001b[0m in \u001b[0;36mwrapper\u001b[1;34m(*args, **kwargs)\u001b[0m\n\u001b[0;32m    309\u001b[0m                     \u001b[0mstacklevel\u001b[0m\u001b[1;33m=\u001b[0m\u001b[0mstacklevel\u001b[0m\u001b[1;33m,\u001b[0m\u001b[1;33m\u001b[0m\u001b[1;33m\u001b[0m\u001b[0m\n\u001b[0;32m    310\u001b[0m                 )\n\u001b[1;32m--> 311\u001b[1;33m             \u001b[1;32mreturn\u001b[0m \u001b[0mfunc\u001b[0m\u001b[1;33m(\u001b[0m\u001b[1;33m*\u001b[0m\u001b[0margs\u001b[0m\u001b[1;33m,\u001b[0m \u001b[1;33m**\u001b[0m\u001b[0mkwargs\u001b[0m\u001b[1;33m)\u001b[0m\u001b[1;33m\u001b[0m\u001b[1;33m\u001b[0m\u001b[0m\n\u001b[0m\u001b[0;32m    312\u001b[0m \u001b[1;33m\u001b[0m\u001b[0m\n\u001b[0;32m    313\u001b[0m         \u001b[1;32mreturn\u001b[0m \u001b[0mwrapper\u001b[0m\u001b[1;33m\u001b[0m\u001b[1;33m\u001b[0m\u001b[0m\n",
      "\u001b[1;32mc:\\users\\juanymariano\\appdata\\local\\programs\\python\\python39\\lib\\site-packages\\pandas\\io\\parsers\\readers.py\u001b[0m in \u001b[0;36mread_csv\u001b[1;34m(filepath_or_buffer, sep, delimiter, header, names, index_col, usecols, squeeze, prefix, mangle_dupe_cols, dtype, engine, converters, true_values, false_values, skipinitialspace, skiprows, skipfooter, nrows, na_values, keep_default_na, na_filter, verbose, skip_blank_lines, parse_dates, infer_datetime_format, keep_date_col, date_parser, dayfirst, cache_dates, iterator, chunksize, compression, thousands, decimal, lineterminator, quotechar, quoting, doublequote, escapechar, comment, encoding, encoding_errors, dialect, error_bad_lines, warn_bad_lines, on_bad_lines, delim_whitespace, low_memory, memory_map, float_precision, storage_options)\u001b[0m\n\u001b[0;32m    584\u001b[0m     \u001b[0mkwds\u001b[0m\u001b[1;33m.\u001b[0m\u001b[0mupdate\u001b[0m\u001b[1;33m(\u001b[0m\u001b[0mkwds_defaults\u001b[0m\u001b[1;33m)\u001b[0m\u001b[1;33m\u001b[0m\u001b[1;33m\u001b[0m\u001b[0m\n\u001b[0;32m    585\u001b[0m \u001b[1;33m\u001b[0m\u001b[0m\n\u001b[1;32m--> 586\u001b[1;33m     \u001b[1;32mreturn\u001b[0m \u001b[0m_read\u001b[0m\u001b[1;33m(\u001b[0m\u001b[0mfilepath_or_buffer\u001b[0m\u001b[1;33m,\u001b[0m \u001b[0mkwds\u001b[0m\u001b[1;33m)\u001b[0m\u001b[1;33m\u001b[0m\u001b[1;33m\u001b[0m\u001b[0m\n\u001b[0m\u001b[0;32m    587\u001b[0m \u001b[1;33m\u001b[0m\u001b[0m\n\u001b[0;32m    588\u001b[0m \u001b[1;33m\u001b[0m\u001b[0m\n",
      "\u001b[1;32mc:\\users\\juanymariano\\appdata\\local\\programs\\python\\python39\\lib\\site-packages\\pandas\\io\\parsers\\readers.py\u001b[0m in \u001b[0;36m_read\u001b[1;34m(filepath_or_buffer, kwds)\u001b[0m\n\u001b[0;32m    480\u001b[0m \u001b[1;33m\u001b[0m\u001b[0m\n\u001b[0;32m    481\u001b[0m     \u001b[1;31m# Create the parser.\u001b[0m\u001b[1;33m\u001b[0m\u001b[1;33m\u001b[0m\u001b[1;33m\u001b[0m\u001b[0m\n\u001b[1;32m--> 482\u001b[1;33m     \u001b[0mparser\u001b[0m \u001b[1;33m=\u001b[0m \u001b[0mTextFileReader\u001b[0m\u001b[1;33m(\u001b[0m\u001b[0mfilepath_or_buffer\u001b[0m\u001b[1;33m,\u001b[0m \u001b[1;33m**\u001b[0m\u001b[0mkwds\u001b[0m\u001b[1;33m)\u001b[0m\u001b[1;33m\u001b[0m\u001b[1;33m\u001b[0m\u001b[0m\n\u001b[0m\u001b[0;32m    483\u001b[0m \u001b[1;33m\u001b[0m\u001b[0m\n\u001b[0;32m    484\u001b[0m     \u001b[1;32mif\u001b[0m \u001b[0mchunksize\u001b[0m \u001b[1;32mor\u001b[0m \u001b[0miterator\u001b[0m\u001b[1;33m:\u001b[0m\u001b[1;33m\u001b[0m\u001b[1;33m\u001b[0m\u001b[0m\n",
      "\u001b[1;32mc:\\users\\juanymariano\\appdata\\local\\programs\\python\\python39\\lib\\site-packages\\pandas\\io\\parsers\\readers.py\u001b[0m in \u001b[0;36m__init__\u001b[1;34m(self, f, engine, **kwds)\u001b[0m\n\u001b[0;32m    809\u001b[0m             \u001b[0mself\u001b[0m\u001b[1;33m.\u001b[0m\u001b[0moptions\u001b[0m\u001b[1;33m[\u001b[0m\u001b[1;34m\"has_index_names\"\u001b[0m\u001b[1;33m]\u001b[0m \u001b[1;33m=\u001b[0m \u001b[0mkwds\u001b[0m\u001b[1;33m[\u001b[0m\u001b[1;34m\"has_index_names\"\u001b[0m\u001b[1;33m]\u001b[0m\u001b[1;33m\u001b[0m\u001b[1;33m\u001b[0m\u001b[0m\n\u001b[0;32m    810\u001b[0m \u001b[1;33m\u001b[0m\u001b[0m\n\u001b[1;32m--> 811\u001b[1;33m         \u001b[0mself\u001b[0m\u001b[1;33m.\u001b[0m\u001b[0m_engine\u001b[0m \u001b[1;33m=\u001b[0m \u001b[0mself\u001b[0m\u001b[1;33m.\u001b[0m\u001b[0m_make_engine\u001b[0m\u001b[1;33m(\u001b[0m\u001b[0mself\u001b[0m\u001b[1;33m.\u001b[0m\u001b[0mengine\u001b[0m\u001b[1;33m)\u001b[0m\u001b[1;33m\u001b[0m\u001b[1;33m\u001b[0m\u001b[0m\n\u001b[0m\u001b[0;32m    812\u001b[0m \u001b[1;33m\u001b[0m\u001b[0m\n\u001b[0;32m    813\u001b[0m     \u001b[1;32mdef\u001b[0m \u001b[0mclose\u001b[0m\u001b[1;33m(\u001b[0m\u001b[0mself\u001b[0m\u001b[1;33m)\u001b[0m\u001b[1;33m:\u001b[0m\u001b[1;33m\u001b[0m\u001b[1;33m\u001b[0m\u001b[0m\n",
      "\u001b[1;32mc:\\users\\juanymariano\\appdata\\local\\programs\\python\\python39\\lib\\site-packages\\pandas\\io\\parsers\\readers.py\u001b[0m in \u001b[0;36m_make_engine\u001b[1;34m(self, engine)\u001b[0m\n\u001b[0;32m   1038\u001b[0m             )\n\u001b[0;32m   1039\u001b[0m         \u001b[1;31m# error: Too many arguments for \"ParserBase\"\u001b[0m\u001b[1;33m\u001b[0m\u001b[1;33m\u001b[0m\u001b[1;33m\u001b[0m\u001b[0m\n\u001b[1;32m-> 1040\u001b[1;33m         \u001b[1;32mreturn\u001b[0m \u001b[0mmapping\u001b[0m\u001b[1;33m[\u001b[0m\u001b[0mengine\u001b[0m\u001b[1;33m]\u001b[0m\u001b[1;33m(\u001b[0m\u001b[0mself\u001b[0m\u001b[1;33m.\u001b[0m\u001b[0mf\u001b[0m\u001b[1;33m,\u001b[0m \u001b[1;33m**\u001b[0m\u001b[0mself\u001b[0m\u001b[1;33m.\u001b[0m\u001b[0moptions\u001b[0m\u001b[1;33m)\u001b[0m  \u001b[1;31m# type: ignore[call-arg]\u001b[0m\u001b[1;33m\u001b[0m\u001b[1;33m\u001b[0m\u001b[0m\n\u001b[0m\u001b[0;32m   1041\u001b[0m \u001b[1;33m\u001b[0m\u001b[0m\n\u001b[0;32m   1042\u001b[0m     \u001b[1;32mdef\u001b[0m \u001b[0m_failover_to_python\u001b[0m\u001b[1;33m(\u001b[0m\u001b[0mself\u001b[0m\u001b[1;33m)\u001b[0m\u001b[1;33m:\u001b[0m\u001b[1;33m\u001b[0m\u001b[1;33m\u001b[0m\u001b[0m\n",
      "\u001b[1;32mc:\\users\\juanymariano\\appdata\\local\\programs\\python\\python39\\lib\\site-packages\\pandas\\io\\parsers\\c_parser_wrapper.py\u001b[0m in \u001b[0;36m__init__\u001b[1;34m(self, src, **kwds)\u001b[0m\n\u001b[0;32m     49\u001b[0m \u001b[1;33m\u001b[0m\u001b[0m\n\u001b[0;32m     50\u001b[0m         \u001b[1;31m# open handles\u001b[0m\u001b[1;33m\u001b[0m\u001b[1;33m\u001b[0m\u001b[1;33m\u001b[0m\u001b[0m\n\u001b[1;32m---> 51\u001b[1;33m         \u001b[0mself\u001b[0m\u001b[1;33m.\u001b[0m\u001b[0m_open_handles\u001b[0m\u001b[1;33m(\u001b[0m\u001b[0msrc\u001b[0m\u001b[1;33m,\u001b[0m \u001b[0mkwds\u001b[0m\u001b[1;33m)\u001b[0m\u001b[1;33m\u001b[0m\u001b[1;33m\u001b[0m\u001b[0m\n\u001b[0m\u001b[0;32m     52\u001b[0m         \u001b[1;32massert\u001b[0m \u001b[0mself\u001b[0m\u001b[1;33m.\u001b[0m\u001b[0mhandles\u001b[0m \u001b[1;32mis\u001b[0m \u001b[1;32mnot\u001b[0m \u001b[1;32mNone\u001b[0m\u001b[1;33m\u001b[0m\u001b[1;33m\u001b[0m\u001b[0m\n\u001b[0;32m     53\u001b[0m \u001b[1;33m\u001b[0m\u001b[0m\n",
      "\u001b[1;32mc:\\users\\juanymariano\\appdata\\local\\programs\\python\\python39\\lib\\site-packages\\pandas\\io\\parsers\\base_parser.py\u001b[0m in \u001b[0;36m_open_handles\u001b[1;34m(self, src, kwds)\u001b[0m\n\u001b[0;32m    220\u001b[0m         \u001b[0mLet\u001b[0m \u001b[0mthe\u001b[0m \u001b[0mreaders\u001b[0m \u001b[0mopen\u001b[0m \u001b[0mIOHandles\u001b[0m \u001b[0mafter\u001b[0m \u001b[0mthey\u001b[0m \u001b[0mare\u001b[0m \u001b[0mdone\u001b[0m \u001b[1;32mwith\u001b[0m \u001b[0mtheir\u001b[0m \u001b[0mpotential\u001b[0m \u001b[0mraises\u001b[0m\u001b[1;33m.\u001b[0m\u001b[1;33m\u001b[0m\u001b[1;33m\u001b[0m\u001b[0m\n\u001b[0;32m    221\u001b[0m         \"\"\"\n\u001b[1;32m--> 222\u001b[1;33m         self.handles = get_handle(\n\u001b[0m\u001b[0;32m    223\u001b[0m             \u001b[0msrc\u001b[0m\u001b[1;33m,\u001b[0m\u001b[1;33m\u001b[0m\u001b[1;33m\u001b[0m\u001b[0m\n\u001b[0;32m    224\u001b[0m             \u001b[1;34m\"r\"\u001b[0m\u001b[1;33m,\u001b[0m\u001b[1;33m\u001b[0m\u001b[1;33m\u001b[0m\u001b[0m\n",
      "\u001b[1;32mc:\\users\\juanymariano\\appdata\\local\\programs\\python\\python39\\lib\\site-packages\\pandas\\io\\common.py\u001b[0m in \u001b[0;36mget_handle\u001b[1;34m(path_or_buf, mode, encoding, compression, memory_map, is_text, errors, storage_options)\u001b[0m\n\u001b[0;32m    699\u001b[0m         \u001b[1;32mif\u001b[0m \u001b[0mioargs\u001b[0m\u001b[1;33m.\u001b[0m\u001b[0mencoding\u001b[0m \u001b[1;32mand\u001b[0m \u001b[1;34m\"b\"\u001b[0m \u001b[1;32mnot\u001b[0m \u001b[1;32min\u001b[0m \u001b[0mioargs\u001b[0m\u001b[1;33m.\u001b[0m\u001b[0mmode\u001b[0m\u001b[1;33m:\u001b[0m\u001b[1;33m\u001b[0m\u001b[1;33m\u001b[0m\u001b[0m\n\u001b[0;32m    700\u001b[0m             \u001b[1;31m# Encoding\u001b[0m\u001b[1;33m\u001b[0m\u001b[1;33m\u001b[0m\u001b[1;33m\u001b[0m\u001b[0m\n\u001b[1;32m--> 701\u001b[1;33m             handle = open(\n\u001b[0m\u001b[0;32m    702\u001b[0m                 \u001b[0mhandle\u001b[0m\u001b[1;33m,\u001b[0m\u001b[1;33m\u001b[0m\u001b[1;33m\u001b[0m\u001b[0m\n\u001b[0;32m    703\u001b[0m                 \u001b[0mioargs\u001b[0m\u001b[1;33m.\u001b[0m\u001b[0mmode\u001b[0m\u001b[1;33m,\u001b[0m\u001b[1;33m\u001b[0m\u001b[1;33m\u001b[0m\u001b[0m\n",
      "\u001b[1;31mFileNotFoundError\u001b[0m: [Errno 2] No such file or directory: 'resultados/resultado.csv'"
     ]
    }
   ],
   "source": [
    "df_resultados = pd.read_csv(\"resultados/resultado.csv\");\n",
    "df_resultados.head()"
   ]
  },
  {
   "cell_type": "code",
   "execution_count": null,
   "id": "d1e938fd",
   "metadata": {},
   "outputs": [],
   "source": [
    "# Graficamos los tiempos de ejecución de cada dataset en función de n.\n",
    "df_complejidad_FB = df_resultados[df_resultados[\"metodo\"]==\"FB\"].copy();\n",
    "fig = sns.scatterplot(data=df_complejidad_FB, x='n', y='tiempo', hue='dataset');\n",
    "fig.set(xlabel='n', ylabel='tiempo (ms)');\n",
    "plt.savefig(\"graficos/fb-densidades.svg\");"
   ]
  },
  {
   "cell_type": "code",
   "execution_count": null,
   "id": "4f7637c9",
   "metadata": {},
   "outputs": [],
   "source": [
    "# Comparamos el dataset densidad-alta contra una función exponencial.\n",
    "df_complejidad_FB = df_resultados[(df_resultados[\"metodo\"]==\"FB\") & (df_resultados[\"dataset\"]==\"densidad-alta\")].copy();\n",
    "df_complejidad_FB[\"tiempo_esperado\"] = 2.0 ** df_complejidad_FB[\"n\"] * 0.000015; # Exponencial\n",
    "fig = sns.scatterplot(data=df_complejidad_FB, x='n', y='tiempo');\n",
    "fig = sns.lineplot(data=df_complejidad_FB, x='n', y='tiempo_esperado', color=\"orange\");\n",
    "fig.legend(labels=['O(2^n)','FB']);\n",
    "fig.set(xlabel='n', ylabel='tiempo (ms)');\n",
    "plt.savefig(\"graficos/fb-complejidad.svg\")"
   ]
  },
  {
   "cell_type": "code",
   "execution_count": null,
   "id": "c1979425",
   "metadata": {},
   "outputs": [],
   "source": [
    "# Graficamos los tiempos de ejecución de la serie de instancias X1, ..., Xn vs la complejidad esperada.\n",
    "df_complejidad_FB = df_resultados[(df_resultados[\"metodo\"]==\"FB\") & (df_resultados[\"dataset\"]==\"densidad-alta\")].copy();\n",
    "df_complejidad_FB[\"complejidad\"] = 2.0 ** df_complejidad_FB[\"n\"];\n",
    "fig = sns.lmplot(data=df_complejidad_FB, x=\"tiempo\", y=\"complejidad\");\n",
    "plt.savefig(\"graficos/fb-correlacion.svg\");\n",
    "print(\"Índice de correlación de Pearson:\", correlacion_pearson(df_complejidad_FB, \"tiempo\", \"complejidad\"));"
   ]
  },
  {
   "cell_type": "code",
   "execution_count": null,
   "id": "b31787d9",
   "metadata": {},
   "outputs": [],
   "source": [
    "df_BT_mejor_caso = df_resultados[(df_resultados[\"metodo\"]==\"BT\") & (df_resultados[\"dataset\"] == \"mejor-caso-bt\")].copy();\n",
    "df_BT_mejor_caso[\"tiempo_esperado\"] = df_BT_mejor_caso[\"n\"] * 0.0005; # Lineal\n",
    "fig = sns.scatterplot(data=df_BT_mejor_caso, x='n', y='tiempo');\n",
    "fig = sns.lineplot(data=df_BT_mejor_caso, x='n', y='tiempo_esperado', color=\"orange\");\n",
    "fig.legend(labels=['O(n)','BT']);\n",
    "fig.set(xlabel='n', ylabel='tiempo (ms)');\n",
    "plt.savefig(\"graficos/bt-complejidad-mejor-caso.svg\");"
   ]
  },
  {
   "cell_type": "code",
   "execution_count": null,
   "id": "0e435725",
   "metadata": {},
   "outputs": [],
   "source": [
    "# Graficamos los tiempos de ejecución de la serie de instancias X1, ..., Xn vs la complejidad esperada.\n",
    "df_BT_mejor_caso = df_resultados[(df_resultados[\"metodo\"]==\"BT\") & (df_resultados[\"dataset\"] == \"mejor-caso-bt\")].copy();\n",
    "df_BT_mejor_caso[\"complejidad\"] = df_BT_mejor_caso[\"n\"];\n",
    "fig = sns.lmplot(data=df_BT_mejor_caso, x=\"tiempo\", y=\"complejidad\");\n",
    "plt.savefig(\"graficos/bt-correlacion-mejor-caso.svg\");\n",
    "print(\"Índice de correlación de Pearson:\", correlacion_pearson(df_BT_mejor_caso, \"tiempo\", \"complejidad\"));"
   ]
  },
  {
   "cell_type": "code",
   "execution_count": null,
   "id": "94cf4939",
   "metadata": {},
   "outputs": [],
   "source": [
    "df_BT_peor_caso = df_resultados[(df_resultados[\"metodo\"]==\"BT\") & (df_resultados[\"dataset\"] == \"peor-caso-bt\")].copy();\n",
    "df_BT_peor_caso[\"tiempo_esperado\"] = 2 ** df_BT_peor_caso[\"n\"] * 0.000015; # Exponencial.\n",
    "fig = sns.scatterplot(data=df_BT_peor_caso, x='n', y='tiempo');\n",
    "fig = sns.lineplot(data=df_BT_peor_caso, x='n', y='tiempo_esperado', color=\"orange\");\n",
    "fig.legend(labels=['O(2^n)','BT']);\n",
    "fig.set(xlabel='n', ylabel='tiempo (ms)');\n",
    "plt.savefig(\"graficos/bt-complejidad-peor-caso.svg\");"
   ]
  },
  {
   "cell_type": "code",
   "execution_count": null,
   "id": "2532909d",
   "metadata": {},
   "outputs": [],
   "source": [
    "# Graficamos los tiempos de ejecución de la serie de instancias X1, ..., Xn vs la complejidad esperada.\n",
    "df_BT_peor_caso = df_resultados[(df_resultados[\"metodo\"]==\"BT\") & (df_resultados[\"dataset\"] == \"peor-caso-bt\")].copy();\n",
    "df_BT_peor_caso[\"complejidad\"] = 2.0 ** df_BT_peor_caso[\"n\"];\n",
    "fig = sns.lmplot(data=df_BT_peor_caso, x=\"tiempo\", y=\"complejidad\");\n",
    "plt.savefig(\"graficos/bt-correlacion-peor-caso.svg\");\n",
    "print(\"Índice de correlación de Pearson:\", correlacion_pearson(df_BT_peor_caso, \"tiempo\", \"complejidad\"));"
   ]
  },
  {
   "cell_type": "code",
   "execution_count": null,
   "id": "2bd3f2d5",
   "metadata": {},
   "outputs": [],
   "source": [
    "df_BT_densidad_alta = df_resultados[((df_resultados[\"metodo\"]==\"BT\") | (df_resultados[\"metodo\"]==\"BT-F\") | (df_resultados[\"metodo\"]==\"BT-O\")) & (df_resultados[\"dataset\"] == \"densidad-alta\")].copy();\n",
    "df_BT_densidad_alta = df_BT_densidad_alta[df_BT_densidad_alta[\"tiempo\"] < 2000]; # Sacamos outliers.\n",
    "fig = sns.scatterplot(data=df_BT_densidad_alta, x='n', y='tiempo', hue='metodo');\n",
    "fig.set(xlabel='n', ylabel='tiempo (ms)');\n",
    "plt.savefig(\"graficos/bt-podas-alta.svg\");"
   ]
  },
  {
   "cell_type": "code",
   "execution_count": null,
   "id": "a52df64f",
   "metadata": {},
   "outputs": [],
   "source": [
    "# Acercamos un poco la lupa para ver la diferencia entre BT y BT-O.\n",
    "fig = sns.scatterplot(data=df_BT_densidad_alta[df_BT_densidad_alta[\"tiempo\"]<1], x='n', y='tiempo', hue='metodo');\n",
    "fig.set(xlabel='n', ylabel='tiempo (ms)');\n",
    "plt.savefig(\"graficos/bt-podas-alta-zoom.svg\");"
   ]
  },
  {
   "cell_type": "code",
   "execution_count": null,
   "id": "3838707a",
   "metadata": {},
   "outputs": [],
   "source": [
    "df_BT_densidad_baja = df_resultados[((df_resultados[\"metodo\"]==\"BT\") | (df_resultados[\"metodo\"]==\"BT-F\") | (df_resultados[\"metodo\"]==\"BT-O\")) & (df_resultados[\"dataset\"] == \"densidad-baja\")].copy();\n",
    "fig = sns.scatterplot(data=df_BT_densidad_baja, x='n', y='tiempo', hue='metodo');\n",
    "fig.set(xlabel='n', ylabel='tiempo (ms)');\n",
    "plt.savefig(\"graficos/bt-podas-baja.svg\");"
   ]
  },
  {
   "cell_type": "code",
   "execution_count": null,
   "id": "63641893",
   "metadata": {},
   "outputs": [],
   "source": [
    "# Acercamos un poco la lupa para ver la diferencia entre BT y BT-O.\n",
    "fig = sns.scatterplot(data=df_BT_densidad_baja[df_BT_densidad_baja[\"tiempo\"]<400], x='n', y='tiempo', hue='metodo');\n",
    "fig.set(xlabel='n', ylabel='tiempo (ms)');\n",
    "plt.savefig(\"graficos/bt-podas-baja-zoom.svg\");"
   ]
  },
  {
   "cell_type": "code",
   "execution_count": null,
   "id": "7bb2469d",
   "metadata": {},
   "outputs": [],
   "source": [
    "# Graficamos la evolución del tiempo de ejecución en función de n, con cortes en distintos W.\n",
    "df_dinamica = df_resultados[(df_resultados[\"metodo\"]==\"DP\") & (df_resultados[\"dataset\"]==\"dinamica\")].copy();\n",
    "fig = sns.scatterplot(data=df_dinamica[df_dinamica[\"M\"]==1000], x='n', y='tiempo');\n",
    "fig = sns.scatterplot(data=df_dinamica[df_dinamica[\"M\"]==3000], x='n', y='tiempo');\n",
    "fig = sns.scatterplot(data=df_dinamica[df_dinamica[\"M\"]==5000], x='n', y='tiempo');\n",
    "fig = sns.scatterplot(data=df_dinamica[df_dinamica[\"M\"]==7000], x='n', y='tiempo');\n",
    "fig.legend(labels=['M=1','M=10','M=20','M=30']);\n",
    "fig.set(xlabel='n', ylabel='tiempo (ms)');\n",
    "plt.savefig(\"graficos/dp-n.svg\");"
   ]
  },
  {
   "cell_type": "code",
   "execution_count": null,
   "id": "a3902122",
   "metadata": {},
   "outputs": [],
   "source": [
    "# Graficamos la evolución del tiempo de ejecución en función de M, con cortes en distintos n.\n",
    "df_dinamica = df_resultados[(df_resultados[\"metodo\"]==\"DP\") & (df_resultados[\"dataset\"]==\"dinamica\")].copy();\n",
    "fig = sns.scatterplot(data=df_dinamica[df_dinamica[\"n\"]==1000], x='M', y='tiempo');\n",
    "fig = sns.scatterplot(data=df_dinamica[df_dinamica[\"n\"]==3000], x='M', y='tiempo');\n",
    "fig = sns.scatterplot(data=df_dinamica[df_dinamica[\"n\"]==5000], x='M', y='tiempo');\n",
    "fig = sns.scatterplot(data=df_dinamica[df_dinamica[\"n\"]==7000], x='M', y='tiempo');\n",
    "fig.legend(labels=['n=50','n=100','n=150','n=200']);\n",
    "fig.set(xlabel='M', ylabel='tiempo (ms)');\n",
    "plt.savefig(\"graficos/dp-M.svg\");"
   ]
  },
  {
   "cell_type": "code",
   "execution_count": null,
   "id": "abee2066",
   "metadata": {},
   "outputs": [],
   "source": [
    "# Graficamos el tiempo de ejecución de las distintas instancias ordenadas por n y M.\n",
    "df_dinamica = df_resultados[(df_resultados[\"metodo\"]==\"DP\") & (df_resultados[\"dataset\"]==\"dinamica\")].copy();\n",
    "df_heatmap = df_dinamica.pivot_table(index='n', columns='M', values='tiempo', aggfunc=np.mean);\n",
    "fig = sns.heatmap(df_heatmap);\n",
    "fig.invert_yaxis();\n",
    "plt.savefig(\"graficos/dp-heatmap.svg\");"
   ]
  },
  {
   "cell_type": "code",
   "execution_count": null,
   "id": "739fb0b4",
   "metadata": {},
   "outputs": [],
   "source": [
    "# Graficamos los tiempos de ejecución de la serie de instancias X1, ..., Xn vs la complejidad esperada.\n",
    "df_dinamica = df_resultados[(df_resultados[\"metodo\"]==\"DP\") & (df_resultados[\"dataset\"]==\"dinamica\")].copy();\n",
    "df_dinamica[\"complejidad\"] = df_dinamica[\"n\"] * df_dinamica[\"M\"];\n",
    "fig = sns.scatterplot(data=df_dinamica, x=\"tiempo\", y=\"complejidad\");\n",
    "plt.savefig(\"graficos/dp-correlacion.svg\");\n",
    "print(\"Índice de correlación de Pearson:\", correlacion_pearson(df_dinamica, \"tiempo\", \"complejidad\"));"
   ]
  },
  {
   "cell_type": "code",
   "execution_count": null,
   "id": "1b9af2af",
   "metadata": {},
   "outputs": [],
   "source": [
    "df_densidad_alta = df_resultados[((df_resultados[\"metodo\"]==\"BT\") | (df_resultados[\"metodo\"]==\"DP\")) & (df_resultados[\"dataset\"] == \"densidad-alta\")].copy();\n",
    "fig = sns.scatterplot(data=df_densidad_alta, x='n', y='tiempo', hue='metodo');\n",
    "fig.set(xlabel='n', ylabel='tiempo (ms)');\n",
    "plt.savefig(\"graficos/comparacion-bt-dp-alta.svg\");"
   ]
  },
  {
   "cell_type": "code",
   "execution_count": null,
   "id": "f8ebb8d9",
   "metadata": {},
   "outputs": [],
   "source": [
    "df_densidad_baja = df_resultados[((df_resultados[\"metodo\"]==\"BT\") | (df_resultados[\"metodo\"]==\"DP\")) & (df_resultados[\"dataset\"] == \"densidad-baja\")].copy();\n",
    "df_densidad_baja = df_densidad_baja[df_densidad_baja[\"n\"]<=30];\n",
    "fig = sns.scatterplot(data=df_densidad_baja, x='n', y='tiempo', hue='metodo');\n",
    "fig.set(xlabel='n', ylabel='tiempo (ms)');\n",
    "plt.savefig(\"graficos/comparacion-bt-dp-baja.svg\");"
   ]
  },
  {
   "cell_type": "code",
   "execution_count": null,
   "id": "fa2beea1",
   "metadata": {},
   "outputs": [],
   "source": []
  },
  {
   "cell_type": "code",
   "execution_count": null,
   "id": "18ae7fa2",
   "metadata": {},
   "outputs": [],
   "source": []
  },
  {
   "cell_type": "code",
   "execution_count": null,
   "id": "26ec5839",
   "metadata": {},
   "outputs": [],
   "source": []
  },
  {
   "cell_type": "code",
   "execution_count": null,
   "id": "2300afde",
   "metadata": {},
   "outputs": [],
   "source": []
  },
  {
   "cell_type": "code",
   "execution_count": null,
   "id": "ebb842cc",
   "metadata": {},
   "outputs": [],
   "source": []
  }
 ],
 "metadata": {
  "kernelspec": {
   "display_name": "Python 3 (ipykernel)",
   "language": "python",
   "name": "python3"
  },
  "language_info": {
   "codemirror_mode": {
    "name": "ipython",
    "version": 3
   },
   "file_extension": ".py",
   "mimetype": "text/x-python",
   "name": "python",
   "nbconvert_exporter": "python",
   "pygments_lexer": "ipython3",
   "version": "3.9.6"
  }
 },
 "nbformat": 4,
 "nbformat_minor": 5
}
