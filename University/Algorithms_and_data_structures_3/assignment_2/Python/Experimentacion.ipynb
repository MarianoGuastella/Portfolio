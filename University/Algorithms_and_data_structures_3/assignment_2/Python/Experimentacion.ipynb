{
 "cells": [
  {
   "cell_type": "markdown",
   "id": "a23d7129",
   "metadata": {},
   "source": [
    "# Experimentos"
   ]
  },
  {
   "cell_type": "code",
   "execution_count": 2,
   "id": "70b62f5b",
   "metadata": {},
   "outputs": [],
   "source": [
    "import seaborn as sns\n",
    "import math, subprocess\n",
    "import pandas as pd\n",
    "import numpy as np\n",
    "from IPython.display import display, clear_output\n",
    "import tsplib95 as tl\n",
    "import time"
   ]
  },
  {
   "cell_type": "code",
   "execution_count": null,
   "id": "3b300070",
   "metadata": {},
   "outputs": [],
   "source": []
  },
  {
   "cell_type": "code",
   "execution_count": 3,
   "id": "768b02a9",
   "metadata": {},
   "outputs": [],
   "source": [
    "def leer_instancia(path_instancia):\n",
    "    with open(path_instancia, \"r\") as f:\n",
    "        return f.read();"
   ]
  },
  {
   "cell_type": "code",
   "execution_count": 4,
   "id": "fb3d9a5c",
   "metadata": {},
   "outputs": [],
   "source": [
    "def correr_experimento(metodo, archivo_instancia):\n",
    "    # Leer archivo de la instancia.\n",
    "    \n",
    "    instancia = leer_instancia(archivo_instancia)\n",
    "\n",
    "    # Crear proceso para ejecutar el codigo.\n",
    "    process = subprocess.Popen([\"tp2.exe\", metodo], stderr=subprocess.PIPE, stdout=subprocess.PIPE, stdin=subprocess.PIPE, universal_newlines = True)\n",
    "    # Poner la instancia en la entrada estandar.\n",
    "    process.stdin.write(instancia)\n",
    "    process.stdin.flush()\n",
    "\n",
    "    # Correr experimento.\n",
    "    exit_code = process.wait()\n",
    "    \n",
    "    # Verificar que el proceso no fallo.\n",
    "    if exit_code != 0: raise Exception(F\"Hubo un error en la experimentacion para el algoritmo: {metodo} con la instancia {archivo_instancia}.\")\n",
    "    # Leer salida de STDERR con los tiempos de ejecucion de cada metodo.\n",
    "    tiempo_de_ejecucion = float(process.stderr.read())\n",
    "\n",
    "    salida = process.stdout.read()\n",
    "    salida = salida.split()\n",
    "    mejorCicloPorIter= salida[2:]\n",
    "    costo= int(salida[1])\n",
    "    \n",
    "    \n",
    "    \n",
    "    process.stdin.close();\n",
    "    process.stdout.close();\n",
    "    process.stderr.close();\n",
    "    return tiempo_de_ejecucion, mejorCicloPorIter, costo;\n",
    "\n",
    "def obtener_optimo(archivo_tour, archivo_instancia):\n",
    "    with open(archivo_instancia) as instancia:\n",
    "        adyacencia = [[0 for i in range(280)] for j in range(280)]\n",
    "        primera = True\n",
    "        for line in instancia:\n",
    "            if primera:\n",
    "                primera = False\n",
    "                continue\n",
    "            arista = line.split()\n",
    "            adyacencia[int(arista[0])-1][int(arista[1])-1] = int(arista[2])\n",
    "            adyacencia[int(arista[1])-1][int(arista[0])-1] = int(arista[2])\n",
    "    opt = tl.load(archivo_tour)\n",
    "    opt_tour = opt.tours[0]\n",
    "    optimo = 0\n",
    "    for i in range(1, len(opt_tour)):\n",
    "        optimo += adyacencia[opt_tour[i-1]-1][opt_tour[i]-1]\n",
    "    optimo += adyacencia[0][-1]\n",
    "    return optimo"
   ]
  },
  {
   "cell_type": "markdown",
   "id": "9cecd991",
   "metadata": {},
   "source": [
    "# Experimento 1:  VMC Ulysses y Drilling Problem"
   ]
  },
  {
   "cell_type": "markdown",
   "id": "d577c8a8",
   "metadata": {},
   "source": [
    "## Ulysses"
   ]
  },
  {
   "cell_type": "code",
   "execution_count": 11,
   "id": "f960c987",
   "metadata": {},
   "outputs": [
    {
     "name": "stdout",
     "output_type": "stream",
     "text": [
      "39\n"
     ]
    }
   ],
   "source": [
    "resultados=[]\n",
    "optimo= obtener_optimo(\"Python/Instancias/ulysses16.opt.tour.txt\",\"Python/Instancias/ulysses16.txt\")\n",
    "for n in range (0, 40):\n",
    "    clear_output(wait=True)\n",
    "    print(n)\n",
    "    tiempo, mejoresPorIter, costo = correr_experimento(\"VMC\", \"Python/Instancias/ulysses16.txt\")\n",
    "    gap= ((costo/optimo) * 100)\n",
    "    resultados.append([tiempo,gap,\"ulysses\"])"
   ]
  },
  {
   "cell_type": "code",
   "execution_count": 12,
   "id": "685297ab",
   "metadata": {},
   "outputs": [],
   "source": [
    "columnas= [\"tiempo\",\"gap\",\"dataset\"]    \n",
    "df_resultado= pd.DataFrame(resultados, columns=columnas);\n",
    "df_resultado.to_csv(F\"Python/Resultados/ulysses.csv\", index=False, header=True);"
   ]
  },
  {
   "cell_type": "markdown",
   "id": "c076335e",
   "metadata": {},
   "source": [
    "## Drilling Problem"
   ]
  },
  {
   "cell_type": "code",
   "execution_count": 13,
   "id": "ec0917ad",
   "metadata": {},
   "outputs": [
    {
     "name": "stdout",
     "output_type": "stream",
     "text": [
      "39\n"
     ]
    }
   ],
   "source": [
    "resultados=[]\n",
    "optimo= obtener_optimo(\"Python/Instancias/a280.opt.tour.txt\",\"Python/Instancias/DrillingProblem.txt\")\n",
    "for n in range (0, 40):\n",
    "    clear_output(wait=True)\n",
    "    print(n)\n",
    "    tiempo, mejoresPorIter, costo = correr_experimento(\"VMC\", \"Python/Instancias/DrillingProblem.txt\")\n",
    "    gap= ((costo/optimo) * 100)\n",
    "    resultados.append([tiempo,gap,\"DrillingProblem\"])"
   ]
  },
  {
   "cell_type": "code",
   "execution_count": 14,
   "id": "18dd9b19",
   "metadata": {},
   "outputs": [
    {
     "name": "stdout",
     "output_type": "stream",
     "text": [
      "[[133.368, 126.17293524621947, 'DrillingProblem'], [124.427, 122.95463357890655, 'DrillingProblem'], [133.995, 124.89336952307096, 'DrillingProblem'], [144.838, 120.70569988367585, 'DrillingProblem'], [121.055, 122.95463357890655, 'DrillingProblem'], [124.955, 125.59131446297013, 'DrillingProblem'], [130.914, 127.25862737495153, 'DrillingProblem'], [119.4, 125.0484683986041, 'DrillingProblem'], [122.486, 126.52190771616907, 'DrillingProblem'], [124.248, 119.81388134936022, 'DrillingProblem'], [122.409, 124.58317177200466, 'DrillingProblem'], [128.114, 126.01783637068631, 'DrillingProblem'], [142.577, 127.723924001551, 'DrillingProblem'], [124.41, 127.995347033734, 'DrillingProblem'], [124.338, 122.99340829778984, 'DrillingProblem'], [123.012, 124.58317177200466, 'DrillingProblem'], [122.477, 135.5176424970919, 'DrillingProblem'], [119.9, 118.96083753392787, 'DrillingProblem'], [119.463, 125.47499030632028, 'DrillingProblem'], [123.8, 121.32609538580846, 'DrillingProblem'], [131.874, 125.90151221403644, 'DrillingProblem'], [126.62, 125.90151221403644, 'DrillingProblem'], [122.316, 125.0872431174874, 'DrillingProblem'], [132.576, 119.5812330360605, 'DrillingProblem'], [121.512, 125.55253974408687, 'DrillingProblem'], [131.92, 134.35440093059324, 'DrillingProblem'], [122.858, 128.0341217526173, 'DrillingProblem'], [121.451, 123.45870492438931, 'DrillingProblem'], [120.458, 123.30360604885615, 'DrillingProblem'], [119.852, 125.00969367972081, 'DrillingProblem'], [124.897, 132.45443970531215, 'DrillingProblem'], [132.609, 125.66886390073672, 'DrillingProblem'], [124.059, 129.27491275688251, 'DrillingProblem'], [122.986, 128.42186894145019, 'DrillingProblem'], [121.57, 127.41372625048469, 'DrillingProblem'], [118.666, 124.89336952307096, 'DrillingProblem'], [122.218, 128.34431950368358, 'DrillingProblem'], [121.442, 118.96083753392787, 'DrillingProblem'], [123.155, 122.06281504459093, 'DrillingProblem'], [123.454, 127.0647537805351, 'DrillingProblem']]\n"
     ]
    }
   ],
   "source": [
    "columnas= [\"tiempo\",\"gap\",\"dataset\"]    \n",
    "df_resultado= pd.DataFrame(resultados, columns=columnas);\n",
    "df_resultado.to_csv(F\"Python/Resultados/DrillingProblem_VMC.csv\", index=False, header=True);"
   ]
  },
  {
   "cell_type": "markdown",
   "id": "52af0251",
   "metadata": {},
   "source": [
    "# Experimento 2: AGM Ulysses y Drilling Problem"
   ]
  },
  {
   "cell_type": "markdown",
   "id": "5a365cca",
   "metadata": {},
   "source": [
    "## Ulysses"
   ]
  },
  {
   "cell_type": "code",
   "execution_count": null,
   "id": "729c84f2",
   "metadata": {},
   "outputs": [],
   "source": [
    "resultados=[]\n",
    "optimo= obtener_optimo(\"Python/Instancias/a280.opt.tour.txt\",\"Python/Instancias/DrillingProblem.txt\")\n",
    "for n in range (0, 40):\n",
    "    clear_output(wait=True)\n",
    "    print(n)\n",
    "    tiempo, mejoresPorIter, costo = correr_experimento(\"AGM\", \"Python/Instancias/DrillingProblem.txt\")\n",
    "    gap= ((costo/optimo) * 100)\n",
    "    resultados.append([tiempo,gap,\"DrillingProblem\"])\n",
    "    \n",
    "columnas= [\"tiempo\",\"gap\",\"dataset\"]    \n",
    "df_resultado= pd.DataFrame(resultados, columns=columnas);\n",
    "df_resultado.to_csv(F\"Python/Resultados/Ulysses_AGM.csv\", index=False, header=True);"
   ]
  },
  {
   "cell_type": "markdown",
   "id": "859a9113",
   "metadata": {},
   "source": [
    "## Drilling Problem"
   ]
  },
  {
   "cell_type": "code",
   "execution_count": null,
   "id": "32153eb2",
   "metadata": {},
   "outputs": [],
   "source": [
    "resultados=[]\n",
    "optimo= obtener_optimo(\"Python/Instancias/a280.opt.tour.txt\",\"Python/Instancias/DrillingProblem.txt\")\n",
    "for n in range (0, 40):\n",
    "    clear_output(wait=True)\n",
    "    print(n)\n",
    "    tiempo, mejoresPorIter, costo = correr_experimento(\"AGM\", \"Python/Instancias/DrillingProblem.txt\")\n",
    "    gap= ((costo/optimo) * 100)\n",
    "    resultados.append([tiempo,gap,\"DrillingProblem\"])\n",
    "    \n",
    "columnas= [\"tiempo\",\"gap\",\"dataset\"]    \n",
    "df_resultado= pd.DataFrame(resultados, columns=columnas);\n",
    "df_resultado.to_csv(F\"Python/Resultados/DrillingProblem_AGM.csv\", index=False, header=True);"
   ]
  }
 ],
 "metadata": {
  "kernelspec": {
   "display_name": "Python 3",
   "language": "python",
   "name": "python3"
  },
  "language_info": {
   "codemirror_mode": {
    "name": "ipython",
    "version": 3
   },
   "file_extension": ".py",
   "mimetype": "text/x-python",
   "name": "python",
   "nbconvert_exporter": "python",
   "pygments_lexer": "ipython3",
   "version": "3.8.8"
  }
 },
 "nbformat": 4,
 "nbformat_minor": 5
}
